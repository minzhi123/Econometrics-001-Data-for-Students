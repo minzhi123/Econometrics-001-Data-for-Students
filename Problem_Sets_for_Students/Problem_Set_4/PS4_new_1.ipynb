{
 "cells": [
  {
   "cell_type": "markdown",
   "metadata": {},
   "source": [
    "<h1 align=center><font size=5>ECON-UB. 251</font></h1>\n",
    "<h1 align=center><font size=5>Econometrics I</font></h1>\n",
    "<h1 align=center><font size=5>Problem Set 4</font></h1>"
   ]
  },
  {
   "cell_type": "markdown",
   "metadata": {},
   "source": [
    "<div class=\"alert alert-danger alertdanger\" style=\"margin-top: 20px\">\n",
    "    <p><b>Name</b>:  </p>\n",
    "    <p><b>NetID</b>:  </p>"
   ]
  },
  {
   "cell_type": "markdown",
   "metadata": {},
   "source": [
    "<h4>Instructions</h4>\n",
    "<p>Problem Set 4 is due on Sunday, Dec 8, at 6pm. Please submit your Jupyter Notebook file on NYU Classes Assignment. Make sure you include your name and Net ID in the title of your notebook.</p>\n",
    "<p>You are required to type your answer in the column below each of the question. Remember to execute your code (Shift+Enter). You can insert cell and use #comments if necessary. "
   ]
  },
  {
   "cell_type": "markdown",
   "metadata": {},
   "source": [
    "<div class=\"alert alert-danger alertdanger\" style=\"margin-top: 20px\">\n",
    "<h1>Question 1</h1>"
   ]
  },
  {
   "cell_type": "markdown",
   "metadata": {},
   "source": [
    "<font size=2>Load data via link below and store in the dataframe.</font>"
   ]
  },
  {
   "cell_type": "code",
   "execution_count": 6,
   "metadata": {},
   "outputs": [
    {
     "name": "stdout",
     "output_type": "stream",
     "text": [
      "Requirement already satisfied: linearmodels in c:\\users\\owner\\anaconda3\\lib\\site-packages (4.14)\n",
      "Requirement already satisfied: patsy in c:\\users\\owner\\anaconda3\\lib\\site-packages (from linearmodels) (0.5.1)\n",
      "Requirement already satisfied: mypy-extensions>=0.4 in c:\\users\\owner\\anaconda3\\lib\\site-packages (from linearmodels) (0.4.3)\n",
      "Requirement already satisfied: property-cached>=1.6.3 in c:\\users\\owner\\anaconda3\\lib\\site-packages (from linearmodels) (1.6.3)\n",
      "Requirement already satisfied: pandas>=0.22 in c:\\users\\owner\\anaconda3\\lib\\site-packages (from linearmodels) (0.25.1)\n",
      "Requirement already satisfied: scipy>=1 in c:\\users\\owner\\anaconda3\\lib\\site-packages (from linearmodels) (1.3.1)\n",
      "Requirement already satisfied: statsmodels>=0.9 in c:\\users\\owner\\anaconda3\\lib\\site-packages (from linearmodels) (0.10.1)\n",
      "Requirement already satisfied: numpy>=1.14 in c:\\users\\owner\\anaconda3\\lib\\site-packages (from linearmodels) (1.16.5)\n",
      "Requirement already satisfied: six in c:\\users\\owner\\anaconda3\\lib\\site-packages (from patsy->linearmodels) (1.12.0)\n",
      "Requirement already satisfied: pytz>=2017.2 in c:\\users\\owner\\anaconda3\\lib\\site-packages (from pandas>=0.22->linearmodels) (2019.3)\n",
      "Requirement already satisfied: python-dateutil>=2.6.1 in c:\\users\\owner\\anaconda3\\lib\\site-packages (from pandas>=0.22->linearmodels) (2.8.0)\n",
      "Note: you may need to restart the kernel to use updated packages.\n"
     ]
    }
   ],
   "source": [
    "pip install linearmodels"
   ]
  },
  {
   "cell_type": "code",
   "execution_count": 2,
   "metadata": {},
   "outputs": [],
   "source": [
    "import pandas as pd\n",
    "df = pd.read_csv('https://github.com/MariaMeng22/econometric-001/raw/master/voucher.csv')"
   ]
  },
  {
   "cell_type": "markdown",
   "metadata": {},
   "source": [
    "Consider the following (structual model):\n",
    "$$ mnce = \\beta_0 + \\beta_1 choiceyrs + \\beta_2 black + \\beta_3 hispanic + \\beta_4 female + \\epsilon $$\n",
    "$mnce$ is the outcome of interest, the student's percentile score on a math test administered in 1994;  \n",
    "$choiceyrs$ indicates the number of years from 1991 to 1994 that a student attended a choice school, ranges from 0 to 4;  \n",
    "$black = 1$ if African-American;  \n",
    "$hispanic = 1$ if Hispanic;  \n",
    "$female = 1$ if female  \n",
    "\n",
    "(1) Estimate the model above and interpret the coefficient on attending a choice school($choiceyrs$).\n",
    "\n",
    "\n",
    "The concern is that $choiceyrs$ is not exogenous. Rouse(1998) uses $selectyrs$ as an instrumental variable for $choiceyrs$.The variable $selectyrs$ is the number of years a student who was selected for a voucher. If the student applied for the program in 1990 and received a voucher then $selectyrs = 4$; if he or she applied in 1991 and received a voucher then $selectyrs = 3$; and so on. Now we follow Rouse's method to construct the instrument.   \n",
    "\n",
    "Use the `statsmodels` package to answer (2) - (4)  \n",
    "(2) Estimate the \"first stage\" equation, that is, regress the endogenous variable on the explanatory variables and instrument\n",
    "$$choiceyrs = \\alpha_0 + \\alpha_1 black + \\alpha_2 hispanic + \\alpha_3 female + \\alpha_4selectyrs + v$$\n",
    "and print out the results summary. Add a new column $choiceyrshat$ to store fitted values for $choiceyrs$ and then print out the description. Is the relationship between the endogenous and IV strong? Positive or negative?  \n",
    "\n",
    "(3) What must we assume for $selectyrs$ to serve as valid instruments? Does your estimate from (2) support $selectyrs$?  \n",
    "\n",
    "(4) Estimate the \"second stage equation\" by replacing the endogenous variable with the fitted values, $\\widehat{choiceyrs}$ from first stage (which in dataset is $choiceyrshat$)\n",
    "$$ mnce = \\beta_0 + \\beta_1 \\widehat{choiceyrs} + \\beta_2 black + \\beta_3 hispanic + \\beta_4 female + \\epsilon $$\n",
    "print out the results summary. Compare the coefficient values of $\\widehat{choiceyrs}$ to what you got in (1) and comment.  \n",
    "(`It's okay if the results are not that good as you expect for a good IV model, just leave it and you don't need to explain it a lot`)   \n",
    "<span style=\"color:red\">The reason for the unsatisfied results is that $choiceyrs$ is not significant in the original model we got in part(1), from this IV model, we know with much more centainty that $choiceyrs$ is not a good explanatory variable for $mnce$, thus in further analysis, we need to drop $choiceyrs$ in our original model. This is not a good case, usually we are interested in analyzing the endogenous variable which is significant in OLS, but the 2SLS method here is what you need to know.\n",
    "\n",
    "(5) Now we introduce the `linearmodels` package to replicate the 2SLS estimation above by using the command `IV2SLS` and using $selectyrs$ as the IV for $choiceyrs$.  \n",
    "<span style=\"color:red\">You are supposed to get the same coefficients as the coeffieicnts we manually did from our previous 2SLS.\n",
    "\n",
    "Here is a link for you to learn how to conduct IV estimation with this package. https://bashtage.github.io/linearmodels/doc/iv/examples/basic-examples.html"
   ]
  },
  {
   "cell_type": "code",
   "execution_count": null,
   "metadata": {},
   "outputs": [],
   "source": []
  },
  {
   "cell_type": "code",
   "execution_count": null,
   "metadata": {},
   "outputs": [],
   "source": []
  },
  {
   "cell_type": "code",
   "execution_count": null,
   "metadata": {},
   "outputs": [],
   "source": []
  },
  {
   "cell_type": "markdown",
   "metadata": {},
   "source": [
    "<div class=\"alert alert-danger alertdanger\" style=\"margin-top: 20px\">\n",
    "<h1>Question 2</h1>"
   ]
  },
  {
   "cell_type": "markdown",
   "metadata": {},
   "source": [
    "There is a survey of House of Representatives elections in 1988 and 1990. Only winners from 1988 who are also running in 1990 appear in the sample; these are the incumbents. For the years 1988 and 1990, an unobserved effects model explaining the share of the incumbent’s vote in terms of expenditures by both candidates is\n",
    "$$vote_{it} = \\beta_0 + \\delta_0 d90_t + \\beta_1 log(inexp_{it}) + \\beta_2 log(chexp_{it}) + \\beta_3 incshr_{it} + a_i + u_{it}, t = 1,2,$$\n",
    "where  \n",
    "$d90_t$ is a dummy variable for 1990;  \n",
    "$inexp_{it}$ is the incumbent $i$’s spending in year $i$, in the dataset, they are $inexp88$ and $inexp90$ in 1988 and 1990 respectively;  \n",
    "$chexp_{it}$ is the challenger $i$'s spending in year $i$, in the dataset, they are $chexp88$ and $chexp90$ in 1988 and 1990 respectively;   \n",
    "$incshr_{it}$ is the incumbent $i$’s share of total campaign spending in year $i$ (in percentage form), eg. \n",
    "$incshr90 = 100 * {inexp90 \\over {inexp90+chexp90}}$;  \n",
    "$a_i$ is the unobserved effect and contains characteristics of the incumbent $i$ — such as “quality” — as well as things about the district that are constant. The incumbent $i$’s gender and party are constant over time, so these are subsumed in $a_i$.  "
   ]
  },
  {
   "cell_type": "markdown",
   "metadata": {},
   "source": [
    "Before we want to study further of the model, let's firstly use the dataset below the construct the model."
   ]
  },
  {
   "cell_type": "code",
   "execution_count": 4,
   "metadata": {
    "scrolled": true
   },
   "outputs": [
    {
     "data": {
      "text/html": [
       "<div>\n",
       "<style scoped>\n",
       "    .dataframe tbody tr th:only-of-type {\n",
       "        vertical-align: middle;\n",
       "    }\n",
       "\n",
       "    .dataframe tbody tr th {\n",
       "        vertical-align: top;\n",
       "    }\n",
       "\n",
       "    .dataframe thead th {\n",
       "        text-align: right;\n",
       "    }\n",
       "</style>\n",
       "<table border=\"1\" class=\"dataframe\">\n",
       "  <thead>\n",
       "    <tr style=\"text-align: right;\">\n",
       "      <th></th>\n",
       "      <th>state</th>\n",
       "      <th>district</th>\n",
       "      <th>democ</th>\n",
       "      <th>vote90</th>\n",
       "      <th>vote88</th>\n",
       "      <th>inexp90</th>\n",
       "      <th>chexp90</th>\n",
       "      <th>inexp88</th>\n",
       "      <th>chexp88</th>\n",
       "      <th>tenure</th>\n",
       "      <th>lawyer</th>\n",
       "      <th>win88</th>\n",
       "      <th>win90</th>\n",
       "      <th>rptchall</th>\n",
       "    </tr>\n",
       "  </thead>\n",
       "  <tbody>\n",
       "    <tr>\n",
       "      <td>0</td>\n",
       "      <td>\"AL\"</td>\n",
       "      <td>2</td>\n",
       "      <td>0</td>\n",
       "      <td>51</td>\n",
       "      <td>94</td>\n",
       "      <td>596096</td>\n",
       "      <td>163663</td>\n",
       "      <td>234923</td>\n",
       "      <td>.</td>\n",
       "      <td>26</td>\n",
       "      <td>1</td>\n",
       "      <td>1</td>\n",
       "      <td>1</td>\n",
       "      <td>0</td>\n",
       "    </tr>\n",
       "    <tr>\n",
       "      <td>1</td>\n",
       "      <td>\"AL\"</td>\n",
       "      <td>3</td>\n",
       "      <td>1</td>\n",
       "      <td>74</td>\n",
       "      <td>65</td>\n",
       "      <td>176550</td>\n",
       "      <td>22989</td>\n",
       "      <td>679297</td>\n",
       "      <td>443927</td>\n",
       "      <td>1</td>\n",
       "      <td>0</td>\n",
       "      <td>1</td>\n",
       "      <td>1</td>\n",
       "      <td>0</td>\n",
       "    </tr>\n",
       "    <tr>\n",
       "      <td>2</td>\n",
       "      <td>\"AL\"</td>\n",
       "      <td>7</td>\n",
       "      <td>1</td>\n",
       "      <td>71</td>\n",
       "      <td>68</td>\n",
       "      <td>238446</td>\n",
       "      <td>58952</td>\n",
       "      <td>328296</td>\n",
       "      <td>8737</td>\n",
       "      <td>4</td>\n",
       "      <td>1</td>\n",
       "      <td>1</td>\n",
       "      <td>1</td>\n",
       "      <td>0</td>\n",
       "    </tr>\n",
       "    <tr>\n",
       "      <td>3</td>\n",
       "      <td>\"AK\"</td>\n",
       "      <td>1</td>\n",
       "      <td>0</td>\n",
       "      <td>52</td>\n",
       "      <td>62</td>\n",
       "      <td>564759</td>\n",
       "      <td>164732</td>\n",
       "      <td>626377</td>\n",
       "      <td>402477</td>\n",
       "      <td>17</td>\n",
       "      <td>0</td>\n",
       "      <td>1</td>\n",
       "      <td>1</td>\n",
       "      <td>0</td>\n",
       "    </tr>\n",
       "    <tr>\n",
       "      <td>4</td>\n",
       "      <td>\"AZ\"</td>\n",
       "      <td>2</td>\n",
       "      <td>1</td>\n",
       "      <td>66</td>\n",
       "      <td>73</td>\n",
       "      <td>112373</td>\n",
       "      <td>1445</td>\n",
       "      <td>99607</td>\n",
       "      <td>3065</td>\n",
       "      <td>29</td>\n",
       "      <td>1</td>\n",
       "      <td>1</td>\n",
       "      <td>1</td>\n",
       "      <td>1</td>\n",
       "    </tr>\n",
       "  </tbody>\n",
       "</table>\n",
       "</div>"
      ],
      "text/plain": [
       "  state  district   democ  vote90  vote88  inexp90  chexp90  inexp88 chexp88  \\\n",
       "0  \"AL\"          2      0      51      94   596096   163663   234923       .   \n",
       "1  \"AL\"          3      1      74      65   176550    22989   679297  443927   \n",
       "2  \"AL\"          7      1      71      68   238446    58952   328296    8737   \n",
       "3  \"AK\"          1      0      52      62   564759   164732   626377  402477   \n",
       "4  \"AZ\"          2      1      66      73   112373     1445    99607    3065   \n",
       "\n",
       "  tenure lawyer  win88  win90  rptchall  \n",
       "0     26      1      1      1         0  \n",
       "1      1      0      1      1         0  \n",
       "2      4      1      1      1         0  \n",
       "3     17      0      1      1         0  \n",
       "4     29      1      1      1         1  "
      ]
     },
     "execution_count": 4,
     "metadata": {},
     "output_type": "execute_result"
    }
   ],
   "source": [
    "df = pd.read_csv('https://github.com/MariaMeng22/econometric-001/raw/master/vote_new.csv')\n",
    "#Do not use the previous dataset I posted as belows.\n",
    "#df = pd.read_csv('https://github.com/MariaMeng22/econometric-001/raw/master/vote.csv')"
   ]
  },
  {
   "cell_type": "markdown",
   "metadata": {},
   "source": [
    "Where except for the varibles explained above,  \n",
    "$state$ is state postal code;  \n",
    "$district$ is U.S. Congressional district code;  \n",
    "$demo = 1$ if incumbent democrat;  \n",
    "$tenure$ is years in H.R.;  \n",
    "$lawyer = 1$ if law degree;  \n",
    "$win88 =1$ if inc. wins in 1988;  \n",
    "$win90 = 1$ if inc. wins in 1990;  \n",
    "$district$ is the incumbent $i$’s spending in year $i$, in the dataset, they are $inexp88$ and $inexp90$ in 1988 and 1990 respectively;  \n",
    "$rptchall = 1$ if a repeat challenger.  \n",
    "\n",
    "We want to study further of the model, let's firstly use the dataset below the construct the model."
   ]
  },
  {
   "cell_type": "markdown",
   "metadata": {},
   "source": [
    "(1) Generate $log(inexp_{it}$) and $log(chexp_{it})$ from $inexp_{it}$ and $chexp_{it}$. For example, in the dataset, get $linexp90$ by taking the logarithm of $inexp90$.\n",
    "\n",
    "(2) Generate $incshr_{it}$ accoding to its definition, name it to $incshr88$ and $incshr90$ for 1988 and 1990 respectively.  \n",
    "\n",
    "<span style=\"color:red\">Hint: There are some nulls in $chexp88$, we need to drop those nulls first. Note there is no need to drop nulls of other variables that we won't use in our model. "
   ]
  },
  {
   "cell_type": "code",
   "execution_count": null,
   "metadata": {},
   "outputs": [],
   "source": []
  },
  {
   "cell_type": "code",
   "execution_count": null,
   "metadata": {},
   "outputs": [],
   "source": []
  },
  {
   "cell_type": "markdown",
   "metadata": {},
   "source": [
    "<span style=\"color:red\">If you cannot complete part 1 and part 2, you can use the cleaned dataset after (1) and (2) as below to finish the rest of the questions.\n",
    "\n",
    "According to the model we constructed, we are interested in the effect of campaign expenditures on election outcomes.   \n",
    "\n",
    "(3) Difference the given equation across the two years and estimate the differenced equation by OLS. Which variables are individually significant at the 5% level (you can name the differenced variable as you want)?  \n",
    "\n",
    "(4) In the equation from part (3), test for overall significance of the model in part (3). Report the p-value.  \n",
    "\n",
    "(5) Reestimate the equation from part (3) using $\\Delta incshr$ as the only independent variable. Interpret the coefficient on $\\Delta incshr$. \n",
    "\n",
    "(6) Redo part (3), but now use only the pairs that have repeat challengers. (This allows us to control for characteristics of the challengers as well, which would be in $a_i$)"
   ]
  },
  {
   "cell_type": "code",
   "execution_count": 3,
   "metadata": {},
   "outputs": [
    {
     "data": {
      "text/html": [
       "<div>\n",
       "<style scoped>\n",
       "    .dataframe tbody tr th:only-of-type {\n",
       "        vertical-align: middle;\n",
       "    }\n",
       "\n",
       "    .dataframe tbody tr th {\n",
       "        vertical-align: top;\n",
       "    }\n",
       "\n",
       "    .dataframe thead th {\n",
       "        text-align: right;\n",
       "    }\n",
       "</style>\n",
       "<table border=\"1\" class=\"dataframe\">\n",
       "  <thead>\n",
       "    <tr style=\"text-align: right;\">\n",
       "      <th></th>\n",
       "      <th>state</th>\n",
       "      <th>district</th>\n",
       "      <th>democ</th>\n",
       "      <th>vote90</th>\n",
       "      <th>vote88</th>\n",
       "      <th>inexp90</th>\n",
       "      <th>chexp90</th>\n",
       "      <th>inexp88</th>\n",
       "      <th>chexp88</th>\n",
       "      <th>tenure</th>\n",
       "      <th>lawyer</th>\n",
       "      <th>win88</th>\n",
       "      <th>win90</th>\n",
       "      <th>rptchall</th>\n",
       "    </tr>\n",
       "  </thead>\n",
       "  <tbody>\n",
       "    <tr>\n",
       "      <td>0</td>\n",
       "      <td>\"AL\"</td>\n",
       "      <td>2</td>\n",
       "      <td>0</td>\n",
       "      <td>51</td>\n",
       "      <td>94</td>\n",
       "      <td>596096</td>\n",
       "      <td>163663</td>\n",
       "      <td>234923</td>\n",
       "      <td>.</td>\n",
       "      <td>26</td>\n",
       "      <td>1</td>\n",
       "      <td>1</td>\n",
       "      <td>1</td>\n",
       "      <td>0</td>\n",
       "    </tr>\n",
       "    <tr>\n",
       "      <td>1</td>\n",
       "      <td>\"AL\"</td>\n",
       "      <td>3</td>\n",
       "      <td>1</td>\n",
       "      <td>74</td>\n",
       "      <td>65</td>\n",
       "      <td>176550</td>\n",
       "      <td>22989</td>\n",
       "      <td>679297</td>\n",
       "      <td>443927</td>\n",
       "      <td>1</td>\n",
       "      <td>0</td>\n",
       "      <td>1</td>\n",
       "      <td>1</td>\n",
       "      <td>0</td>\n",
       "    </tr>\n",
       "    <tr>\n",
       "      <td>2</td>\n",
       "      <td>\"AL\"</td>\n",
       "      <td>7</td>\n",
       "      <td>1</td>\n",
       "      <td>71</td>\n",
       "      <td>68</td>\n",
       "      <td>238446</td>\n",
       "      <td>58952</td>\n",
       "      <td>328296</td>\n",
       "      <td>8737</td>\n",
       "      <td>4</td>\n",
       "      <td>1</td>\n",
       "      <td>1</td>\n",
       "      <td>1</td>\n",
       "      <td>0</td>\n",
       "    </tr>\n",
       "    <tr>\n",
       "      <td>3</td>\n",
       "      <td>\"AK\"</td>\n",
       "      <td>1</td>\n",
       "      <td>0</td>\n",
       "      <td>52</td>\n",
       "      <td>62</td>\n",
       "      <td>564759</td>\n",
       "      <td>164732</td>\n",
       "      <td>626377</td>\n",
       "      <td>402477</td>\n",
       "      <td>17</td>\n",
       "      <td>0</td>\n",
       "      <td>1</td>\n",
       "      <td>1</td>\n",
       "      <td>0</td>\n",
       "    </tr>\n",
       "    <tr>\n",
       "      <td>4</td>\n",
       "      <td>\"AZ\"</td>\n",
       "      <td>2</td>\n",
       "      <td>1</td>\n",
       "      <td>66</td>\n",
       "      <td>73</td>\n",
       "      <td>112373</td>\n",
       "      <td>1445</td>\n",
       "      <td>99607</td>\n",
       "      <td>3065</td>\n",
       "      <td>29</td>\n",
       "      <td>1</td>\n",
       "      <td>1</td>\n",
       "      <td>1</td>\n",
       "      <td>1</td>\n",
       "    </tr>\n",
       "  </tbody>\n",
       "</table>\n",
       "</div>"
      ],
      "text/plain": [
       "  state  district   democ  vote90  vote88  inexp90  chexp90  inexp88 chexp88  \\\n",
       "0  \"AL\"          2      0      51      94   596096   163663   234923       .   \n",
       "1  \"AL\"          3      1      74      65   176550    22989   679297  443927   \n",
       "2  \"AL\"          7      1      71      68   238446    58952   328296    8737   \n",
       "3  \"AK\"          1      0      52      62   564759   164732   626377  402477   \n",
       "4  \"AZ\"          2      1      66      73   112373     1445    99607    3065   \n",
       "\n",
       "  tenure lawyer  win88  win90  rptchall  \n",
       "0     26      1      1      1         0  \n",
       "1      1      0      1      1         0  \n",
       "2      4      1      1      1         0  \n",
       "3     17      0      1      1         0  \n",
       "4     29      1      1      1         1  "
      ]
     },
     "execution_count": 3,
     "metadata": {},
     "output_type": "execute_result"
    }
   ],
   "source": [
    "df_clean = pd.read_csv('https://github.com/MariaMeng22/econometric-001/raw/master/vote_clean.csv')\n",
    "df_clean.head()"
   ]
  },
  {
   "cell_type": "code",
   "execution_count": null,
   "metadata": {},
   "outputs": [],
   "source": []
  },
  {
   "cell_type": "code",
   "execution_count": null,
   "metadata": {},
   "outputs": [],
   "source": []
  },
  {
   "cell_type": "code",
   "execution_count": null,
   "metadata": {},
   "outputs": [],
   "source": []
  }
 ],
 "metadata": {
  "kernelspec": {
   "display_name": "Python 3",
   "language": "python",
   "name": "python3"
  },
  "language_info": {
   "codemirror_mode": {
    "name": "ipython",
    "version": 3
   },
   "file_extension": ".py",
   "mimetype": "text/x-python",
   "name": "python",
   "nbconvert_exporter": "python",
   "pygments_lexer": "ipython3",
   "version": "3.7.4"
  }
 },
 "nbformat": 4,
 "nbformat_minor": 2
}
