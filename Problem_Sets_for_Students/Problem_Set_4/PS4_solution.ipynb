{
 "cells": [
  {
   "cell_type": "markdown",
   "metadata": {},
   "source": [
    "<h1 align=center><font size=5>ECON-UB. 251</font></h1>\n",
    "<h1 align=center><font size=5>Econometrics I</font></h1>\n",
    "<h1 align=center><font size=5>Problem Set 4</font></h1>"
   ]
  },
  {
   "cell_type": "markdown",
   "metadata": {},
   "source": [
    "<h4>Instructions</h4>\n",
    "<p>Problem Set 4 is due on Sunday, Dec 8, at 6pm. Please submit your Jupyter Notebook file on NYU Classes Assignment. Make sure you include your name and Net ID in the title of your notebook.</p>\n",
    "<p>You are required to type your answer in the column below each of the question. Remember to execute your code (Shift+Enter). You can insert cell and use #comments if necessary. "
   ]
  },
  {
   "cell_type": "markdown",
   "metadata": {},
   "source": [
    "<div class=\"alert alert-danger alertdanger\" style=\"margin-top: 20px\">\n",
    "<h1>Question 1</h1>"
   ]
  },
  {
   "cell_type": "markdown",
   "metadata": {},
   "source": [
    "<font size=2>Load data via link below and store in the dataframe.</font>"
   ]
  },
  {
   "cell_type": "code",
   "execution_count": 1,
   "metadata": {},
   "outputs": [
    {
     "name": "stdout",
     "output_type": "stream",
     "text": [
      "Requirement already satisfied: linearmodels in c:\\users\\owner\\anaconda3\\lib\\site-packages (4.14)\n",
      "Requirement already satisfied: property-cached>=1.6.3 in c:\\users\\owner\\anaconda3\\lib\\site-packages (from linearmodels) (1.6.3)\n",
      "Requirement already satisfied: numpy>=1.14 in c:\\users\\owner\\anaconda3\\lib\\site-packages (from linearmodels) (1.16.5)\n",
      "Requirement already satisfied: scipy>=1 in c:\\users\\owner\\anaconda3\\lib\\site-packages (from linearmodels) (1.3.1)\n",
      "Requirement already satisfied: patsy in c:\\users\\owner\\anaconda3\\lib\\site-packages (from linearmodels) (0.5.1)\n",
      "Requirement already satisfied: mypy-extensions>=0.4 in c:\\users\\owner\\anaconda3\\lib\\site-packages (from linearmodels) (0.4.3)\n",
      "Requirement already satisfied: pandas>=0.22 in c:\\users\\owner\\anaconda3\\lib\\site-packages (from linearmodels) (0.25.1)\n",
      "Requirement already satisfied: statsmodels>=0.9 in c:\\users\\owner\\anaconda3\\lib\\site-packages (from linearmodels) (0.10.1)\n",
      "Requirement already satisfied: six in c:\\users\\owner\\anaconda3\\lib\\site-packages (from patsy->linearmodels) (1.12.0)\n",
      "Requirement already satisfied: pytz>=2017.2 in c:\\users\\owner\\anaconda3\\lib\\site-packages (from pandas>=0.22->linearmodels) (2019.3)\n",
      "Requirement already satisfied: python-dateutil>=2.6.1 in c:\\users\\owner\\anaconda3\\lib\\site-packages (from pandas>=0.22->linearmodels) (2.8.0)\n",
      "Note: you may need to restart the kernel to use updated packages.\n"
     ]
    }
   ],
   "source": [
    "pip install linearmodels"
   ]
  },
  {
   "cell_type": "code",
   "execution_count": 2,
   "metadata": {
    "scrolled": true
   },
   "outputs": [
    {
     "data": {
      "text/html": [
       "<div>\n",
       "<style scoped>\n",
       "    .dataframe tbody tr th:only-of-type {\n",
       "        vertical-align: middle;\n",
       "    }\n",
       "\n",
       "    .dataframe tbody tr th {\n",
       "        vertical-align: top;\n",
       "    }\n",
       "\n",
       "    .dataframe thead th {\n",
       "        text-align: right;\n",
       "    }\n",
       "</style>\n",
       "<table border=\"1\" class=\"dataframe\">\n",
       "  <thead>\n",
       "    <tr style=\"text-align: right;\">\n",
       "      <th></th>\n",
       "      <th>studyid</th>\n",
       "      <th>black</th>\n",
       "      <th>hispanic</th>\n",
       "      <th>female</th>\n",
       "      <th>appyear</th>\n",
       "      <th>mnce</th>\n",
       "      <th>select</th>\n",
       "      <th>choice</th>\n",
       "      <th>selectyrs</th>\n",
       "      <th>choiceyrs</th>\n",
       "      <th>mnce90</th>\n",
       "      <th>selectyrs1</th>\n",
       "      <th>selectyrs2</th>\n",
       "      <th>selectyrs3</th>\n",
       "      <th>selectyrs4</th>\n",
       "      <th>choiceyrs1</th>\n",
       "      <th>choiceyrs2</th>\n",
       "      <th>choiceyrs3</th>\n",
       "      <th>choiceyrs4</th>\n",
       "    </tr>\n",
       "  </thead>\n",
       "  <tbody>\n",
       "    <tr>\n",
       "      <td>0</td>\n",
       "      <td>21</td>\n",
       "      <td>1</td>\n",
       "      <td>0</td>\n",
       "      <td>1</td>\n",
       "      <td>90</td>\n",
       "      <td>44</td>\n",
       "      <td>1</td>\n",
       "      <td>0</td>\n",
       "      <td>4</td>\n",
       "      <td>1</td>\n",
       "      <td>NaN</td>\n",
       "      <td>0</td>\n",
       "      <td>0</td>\n",
       "      <td>0</td>\n",
       "      <td>1</td>\n",
       "      <td>1</td>\n",
       "      <td>0</td>\n",
       "      <td>0</td>\n",
       "      <td>0</td>\n",
       "    </tr>\n",
       "    <tr>\n",
       "      <td>1</td>\n",
       "      <td>26</td>\n",
       "      <td>1</td>\n",
       "      <td>0</td>\n",
       "      <td>0</td>\n",
       "      <td>90</td>\n",
       "      <td>46</td>\n",
       "      <td>1</td>\n",
       "      <td>1</td>\n",
       "      <td>4</td>\n",
       "      <td>4</td>\n",
       "      <td>NaN</td>\n",
       "      <td>0</td>\n",
       "      <td>0</td>\n",
       "      <td>0</td>\n",
       "      <td>1</td>\n",
       "      <td>0</td>\n",
       "      <td>0</td>\n",
       "      <td>0</td>\n",
       "      <td>1</td>\n",
       "    </tr>\n",
       "    <tr>\n",
       "      <td>2</td>\n",
       "      <td>30</td>\n",
       "      <td>1</td>\n",
       "      <td>0</td>\n",
       "      <td>0</td>\n",
       "      <td>90</td>\n",
       "      <td>20</td>\n",
       "      <td>1</td>\n",
       "      <td>1</td>\n",
       "      <td>4</td>\n",
       "      <td>4</td>\n",
       "      <td>NaN</td>\n",
       "      <td>0</td>\n",
       "      <td>0</td>\n",
       "      <td>0</td>\n",
       "      <td>1</td>\n",
       "      <td>0</td>\n",
       "      <td>0</td>\n",
       "      <td>0</td>\n",
       "      <td>1</td>\n",
       "    </tr>\n",
       "    <tr>\n",
       "      <td>3</td>\n",
       "      <td>31</td>\n",
       "      <td>1</td>\n",
       "      <td>0</td>\n",
       "      <td>1</td>\n",
       "      <td>90</td>\n",
       "      <td>36</td>\n",
       "      <td>1</td>\n",
       "      <td>1</td>\n",
       "      <td>4</td>\n",
       "      <td>4</td>\n",
       "      <td>NaN</td>\n",
       "      <td>0</td>\n",
       "      <td>0</td>\n",
       "      <td>0</td>\n",
       "      <td>1</td>\n",
       "      <td>0</td>\n",
       "      <td>0</td>\n",
       "      <td>0</td>\n",
       "      <td>1</td>\n",
       "    </tr>\n",
       "    <tr>\n",
       "      <td>4</td>\n",
       "      <td>33</td>\n",
       "      <td>1</td>\n",
       "      <td>0</td>\n",
       "      <td>0</td>\n",
       "      <td>90</td>\n",
       "      <td>32</td>\n",
       "      <td>1</td>\n",
       "      <td>1</td>\n",
       "      <td>4</td>\n",
       "      <td>4</td>\n",
       "      <td>NaN</td>\n",
       "      <td>0</td>\n",
       "      <td>0</td>\n",
       "      <td>0</td>\n",
       "      <td>1</td>\n",
       "      <td>0</td>\n",
       "      <td>0</td>\n",
       "      <td>0</td>\n",
       "      <td>1</td>\n",
       "    </tr>\n",
       "  </tbody>\n",
       "</table>\n",
       "</div>"
      ],
      "text/plain": [
       "   studyid  black  hispanic  female  appyear  mnce  select  choice  selectyrs  \\\n",
       "0       21      1         0       1       90    44       1       0          4   \n",
       "1       26      1         0       0       90    46       1       1          4   \n",
       "2       30      1         0       0       90    20       1       1          4   \n",
       "3       31      1         0       1       90    36       1       1          4   \n",
       "4       33      1         0       0       90    32       1       1          4   \n",
       "\n",
       "   choiceyrs  mnce90  selectyrs1  selectyrs2  selectyrs3  selectyrs4  \\\n",
       "0          1     NaN           0           0           0           1   \n",
       "1          4     NaN           0           0           0           1   \n",
       "2          4     NaN           0           0           0           1   \n",
       "3          4     NaN           0           0           0           1   \n",
       "4          4     NaN           0           0           0           1   \n",
       "\n",
       "   choiceyrs1  choiceyrs2  choiceyrs3  choiceyrs4  \n",
       "0           1           0           0           0  \n",
       "1           0           0           0           1  \n",
       "2           0           0           0           1  \n",
       "3           0           0           0           1  \n",
       "4           0           0           0           1  "
      ]
     },
     "execution_count": 2,
     "metadata": {},
     "output_type": "execute_result"
    }
   ],
   "source": [
    "import pandas as pd\n",
    "df = pd.read_csv('https://github.com/MariaMeng22/econometric-001/raw/master/voucher.csv')\n",
    "df.head()"
   ]
  },
  {
   "cell_type": "markdown",
   "metadata": {},
   "source": [
    "Consider the following (structual model):\n",
    "$$ mnce = \\beta_0 + \\beta_1 choiceyrs + \\beta_2 black + \\beta_3 hispanic + \\beta_4 female + \\epsilon $$\n",
    "$mnce$ is the outcome of interest, the student's percentile score on a math test administered in 1994;  \n",
    "$choiceyrs$ indicates the number of years from 1991 to 1994 that a student attended a choice school, ranges from 0 to 4;  \n",
    "$black = 1$ if African-American;  \n",
    "$hispanic = 1$ if Hispanic;  \n",
    "$female = 1$ if female  \n",
    "\n",
    "(1) Estimate the model above and interpret the coefficient on attending a choice school($choiceyrs$).\n",
    "\n",
    "\n",
    "The concern is that $choiceyrs$ is not exogenous. Rouse(1998) uses $selectyrs$ as an instrumental variable for $choiceyrs$.The variable $selectyrs$ is the number of years a student who was selected for a voucher. If the student applied for the program in 1990 and received a voucher then $selectyrs = 4$; if he or she applied in 1991 and received a voucher then $selectyrs = 3$; and so on. Now we follow Rouse's method to construct the instrument.   \n",
    "\n",
    "Use the `statsmodels` package to answer (2) - (4)  \n",
    "(2) Estimate the \"first stage\" equation, that is, regress the endogenous variable on the explanatory variables and instrument\n",
    "$$choiceyrs = \\alpha_0 + \\alpha_1 black + \\alpha_2 hispanic + \\alpha_3 female + \\alpha_4selectyrs + v$$\n",
    "and print out the results summary. Add a new column $choiceyrshat$ to store fitted values for $choiceyrs$ and then print out the description. Is the relationship between the endogenous and IV strong? Positive or negative?  \n",
    "\n",
    "(3) What must we assume for $selectyrs$ to serve as valid instruments? Does your estimate from (2) support $selectyrs$?  \n",
    "\n",
    "(4) Estimate the \"second stage equation\" by replacing the endogenous variable with the fitted values, $\\widehat{choiceyrs}$ from first stage (which in dataset is $choiceyrshat$)\n",
    "$$ mnce = \\beta_0 + \\beta_1 \\widehat{choiceyrs} + \\beta_2 black + \\beta_3 hispanic + \\beta_4 female + \\epsilon $$\n",
    "print out the results summary. Compare the coefficient values of $\\widehat{choiceyrs}$ to what you got in (1) and comment.    \n",
    "\n",
    "(5) Now we introduce the `linearmodels` package to replicate the 2SLS estimation above by using the command `IV2SLS` and using $selectyrs$ as the IV for $choiceyrs$. \n",
    "\n",
    "\n",
    "Here is a link for you to learn how to conduct IV estimation with this package. https://bashtage.github.io/linearmodels/doc/iv/examples/basic-examples.html"
   ]
  },
  {
   "cell_type": "markdown",
   "metadata": {},
   "source": [
    "<div class=\"alert alert-danger alertdanger\" style=\"margin-top: 20px\">\n",
    "<h3>part 1</h3>"
   ]
  },
  {
   "cell_type": "code",
   "execution_count": 3,
   "metadata": {},
   "outputs": [],
   "source": [
    "import statsmodels.formula.api as smf"
   ]
  },
  {
   "cell_type": "code",
   "execution_count": 4,
   "metadata": {
    "scrolled": false
   },
   "outputs": [
    {
     "name": "stdout",
     "output_type": "stream",
     "text": [
      "                            OLS Regression Results                            \n",
      "==============================================================================\n",
      "Dep. Variable:                   mnce   R-squared:                       0.087\n",
      "Model:                            OLS   Adj. R-squared:                  0.083\n",
      "Method:                 Least Squares   F-statistic:                     20.11\n",
      "Date:                Sat, 07 Dec 2019   Prob (F-statistic):           6.15e-16\n",
      "Time:                        12:39:15   Log-Likelihood:                -4367.3\n",
      "No. Observations:                 990   AIC:                             8745.\n",
      "Df Residuals:                     985   BIC:                             8769.\n",
      "Df Model:                           4                                         \n",
      "Covariance Type:                  HC3                                         \n",
      "==============================================================================\n",
      "                 coef    std err          z      P>|z|      [0.025      0.975]\n",
      "------------------------------------------------------------------------------\n",
      "Intercept     57.1219      1.888     30.252      0.000      53.421      60.823\n",
      "choiceyrs     -0.5652      0.496     -1.140      0.254      -1.537       0.407\n",
      "black        -16.0174      1.934     -8.282      0.000     -19.808     -12.227\n",
      "hispanic     -13.4029      2.424     -5.530      0.000     -18.153      -8.653\n",
      "female         1.3527      1.283      1.054      0.292      -1.162       3.868\n",
      "==============================================================================\n",
      "Omnibus:                        1.778   Durbin-Watson:                   1.913\n",
      "Prob(Omnibus):                  0.411   Jarque-Bera (JB):                1.684\n",
      "Skew:                           0.098   Prob(JB):                        0.431\n",
      "Kurtosis:                       3.045   Cond. No.                         9.00\n",
      "==============================================================================\n",
      "\n",
      "Warnings:\n",
      "[1] Standard Errors are heteroscedasticity robust (HC3)\n"
     ]
    }
   ],
   "source": [
    "#ols\n",
    "res_ols = smf.ols('mnce ~ choiceyrs + black + hispanic + female', data=df).fit(cov_type = 'HC3')\n",
    "print(res_ols.summary())"
   ]
  },
  {
   "cell_type": "markdown",
   "metadata": {},
   "source": [
    "<div class=\"alert alert-danger alertdanger\" style=\"margin-top: 20px\">\n",
    "On average an additional year in a choice school will decrease his or her math percentile point by 0.5652 point, holding others constant. "
   ]
  },
  {
   "cell_type": "markdown",
   "metadata": {},
   "source": [
    "<div class=\"alert alert-danger alertdanger\" style=\"margin-top: 20px\">\n",
    "<h3>part 2</h3>"
   ]
  },
  {
   "cell_type": "code",
   "execution_count": 5,
   "metadata": {},
   "outputs": [
    {
     "name": "stdout",
     "output_type": "stream",
     "text": [
      "                            OLS Regression Results                            \n",
      "==============================================================================\n",
      "Dep. Variable:              choiceyrs   R-squared:                       0.790\n",
      "Model:                            OLS   Adj. R-squared:                  0.789\n",
      "Method:                 Least Squares   F-statistic:                     486.6\n",
      "Date:                Sat, 07 Dec 2019   Prob (F-statistic):          1.79e-231\n",
      "Time:                        12:39:15   Log-Likelihood:                -856.97\n",
      "No. Observations:                 990   AIC:                             1724.\n",
      "Df Residuals:                     985   BIC:                             1748.\n",
      "Df Model:                           4                                         \n",
      "Covariance Type:                  HC3                                         \n",
      "==============================================================================\n",
      "                 coef    std err          z      P>|z|      [0.025      0.975]\n",
      "------------------------------------------------------------------------------\n",
      "Intercept     -0.0191      0.028     -0.672      0.502      -0.075       0.037\n",
      "selectyrs      0.7634      0.020     37.535      0.000       0.724       0.803\n",
      "black          0.0294      0.038      0.767      0.443      -0.046       0.105\n",
      "hispanic       0.0430      0.064      0.673      0.501      -0.082       0.168\n",
      "female         0.0324      0.037      0.865      0.387      -0.041       0.106\n",
      "==============================================================================\n",
      "Omnibus:                      453.866   Durbin-Watson:                   1.449\n",
      "Prob(Omnibus):                  0.000   Jarque-Bera (JB):             3176.285\n",
      "Skew:                          -1.974   Prob(JB):                         0.00\n",
      "Kurtosis:                      10.837   Cond. No.                         10.4\n",
      "==============================================================================\n",
      "\n",
      "Warnings:\n",
      "[1] Standard Errors are heteroscedasticity robust (HC3)\n"
     ]
    }
   ],
   "source": [
    "res_s1 = smf.ols('choiceyrs ~ selectyrs + black + hispanic + female', data=df).fit(cov_type = 'HC3')\n",
    "print(res_s1.summary())"
   ]
  },
  {
   "cell_type": "code",
   "execution_count": 6,
   "metadata": {},
   "outputs": [
    {
     "data": {
      "text/plain": [
       "count    990.000000\n",
       "mean       1.022222\n",
       "std        1.116176\n",
       "min       -0.019054\n",
       "25%        0.013304\n",
       "50%        0.773808\n",
       "75%        2.300672\n",
       "max        3.110062\n",
       "Name: fitted, dtype: float64"
      ]
     },
     "execution_count": 6,
     "metadata": {},
     "output_type": "execute_result"
    }
   ],
   "source": [
    "df['fitted'] = res_s1.fittedvalues\n",
    "df['fitted'].describe()"
   ]
  },
  {
   "cell_type": "markdown",
   "metadata": {},
   "source": [
    "<div class=\"alert alert-danger alertdanger\" style=\"margin-top: 20px\">\n",
    "\"First stage\" equation: \n",
    "$choiceyrs = -0.0191 + 0.0294 black + 0.0430 hispanic + 0.0324 female + 0.7634 selectyrs + v$, p-value is 0.000, which is less than the critical p-value of 0.05 at 5% level of significance, this variable is individually significant at the 5% level of significance.  \n",
    "    \n",
    "The relationship between IV and endogenous variable is strong because $R^2 = 0.790$.  \n",
    "\n",
    "The coefficient on IV is 0.7634 > 0, indicating a positive relationship between IV and the endogenous variable."
   ]
  },
  {
   "cell_type": "markdown",
   "metadata": {},
   "source": [
    "<div class=\"alert alert-danger alertdanger\" style=\"margin-top: 20px\">\n",
    "<h3>part 3</h3>\n",
    "    \n",
    "    \n",
    "(1) z is uncorrelated with u, that is,\n",
    "$$Cov(z,u) ≠ 0$$ \n",
    "(2) z is correlated with x, that is,\n",
    "$$Cov(z,x) = 0$$ \n",
    "In this example, to serve as a good IV, $selectyrs$ needs to satisfy the assumptions that it is uncorrelated with the residual, and correlated with $choiceyrs$.\n",
    "\n",
    "(In our model, the variables $black$,$hispanic$, $female$ are exogenous variables, $choiceyrs$ is the endogenous varible and $selectyrs$ is IV.)"
   ]
  },
  {
   "cell_type": "markdown",
   "metadata": {},
   "source": [
    "<div class=\"alert alert-danger alertdanger\" style=\"margin-top: 20px\">\n",
    "<h3>part 4</h3>"
   ]
  },
  {
   "cell_type": "code",
   "execution_count": 7,
   "metadata": {
    "scrolled": false
   },
   "outputs": [
    {
     "name": "stdout",
     "output_type": "stream",
     "text": [
      "                            OLS Regression Results                            \n",
      "==============================================================================\n",
      "Dep. Variable:                   mnce   R-squared:                       0.086\n",
      "Model:                            OLS   Adj. R-squared:                  0.082\n",
      "Method:                 Least Squares   F-statistic:                     19.81\n",
      "Date:                Sat, 07 Dec 2019   Prob (F-statistic):           1.07e-15\n",
      "Time:                        12:39:15   Log-Likelihood:                -4367.8\n",
      "No. Observations:                 990   AIC:                             8746.\n",
      "Df Residuals:                     985   BIC:                             8770.\n",
      "Df Model:                           4                                         \n",
      "Covariance Type:                  HC3                                         \n",
      "==============================================================================\n",
      "                 coef    std err          z      P>|z|      [0.025      0.975]\n",
      "------------------------------------------------------------------------------\n",
      "Intercept     57.0680      1.890     30.190      0.000      53.363      60.773\n",
      "black        -16.3169      1.960     -8.325      0.000     -20.159     -12.475\n",
      "hispanic     -13.7754      2.433     -5.663      0.000     -18.543      -9.007\n",
      "female         1.3197      1.285      1.027      0.304      -1.199       3.839\n",
      "fitted        -0.2413      0.596     -0.405      0.685      -1.409       0.926\n",
      "==============================================================================\n",
      "Omnibus:                        1.969   Durbin-Watson:                   1.911\n",
      "Prob(Omnibus):                  0.374   Jarque-Bera (JB):                1.878\n",
      "Skew:                           0.105   Prob(JB):                        0.391\n",
      "Kurtosis:                       3.042   Cond. No.                         8.83\n",
      "==============================================================================\n",
      "\n",
      "Warnings:\n",
      "[1] Standard Errors are heteroscedasticity robust (HC3)\n"
     ]
    }
   ],
   "source": [
    "res_s2 = smf.ols('mnce ~ black + hispanic + female + fitted', data=df).fit(cov_type = 'HC3')\n",
    "print(res_s2.summary())"
   ]
  },
  {
   "cell_type": "markdown",
   "metadata": {},
   "source": [
    "<div class=\"alert alert-danger alertdanger\" style=\"margin-top: 20px\">\n",
    "\"Second stage\" equation: \n",
    "$ mnce = 57.0680 - 0.2413 \\widehat{choiceyrs} - 16.3169 black - 13.7754 hispanic + 1.3197 female$\n",
    "\n",
    "Compared to the results we've got in part 1, the p-value on $\\widehat{choiceyrs}$ does not decrease, in fact, its larger than before, which indicates that the $selectyrs$ might not be a good IV in this case.\n",
    "\n",
    "The reason for the unsatisfied results that is $selectyrs$ is not significant in the original model as we did in part(1), from this IV model, we are more centain that $selectyrs$ is not a good explanatory variable for $mnce$, thus in further analysis, we need to drop $selectyrs$ in our original model. This is not a good case, usually we are interested in analyzing the endogenous variable which is significant in OLS, but the 2SLS method here is what you need to know.\n"
   ]
  },
  {
   "cell_type": "markdown",
   "metadata": {},
   "source": [
    "<div class=\"alert alert-danger alertdanger\" style=\"margin-top: 20px\">\n",
    "<h3>part 5</h3>"
   ]
  },
  {
   "cell_type": "code",
   "execution_count": 8,
   "metadata": {},
   "outputs": [],
   "source": [
    "import linearmodels.iv as iv  "
   ]
  },
  {
   "cell_type": "code",
   "execution_count": 9,
   "metadata": {
    "scrolled": true
   },
   "outputs": [
    {
     "name": "stdout",
     "output_type": "stream",
     "text": [
      "                          IV-2SLS Estimation Summary                          \n",
      "==============================================================================\n",
      "Dep. Variable:                   mnce   R-squared:                      0.0864\n",
      "Estimator:                    IV-2SLS   Adj. R-squared:                 0.0827\n",
      "No. Observations:                 990   F-statistic:                    80.276\n",
      "Date:                Sat, Dec 07 2019   P-value (F-stat)                0.0000\n",
      "Time:                        12:39:16   Distribution:                  chi2(4)\n",
      "Cov. Estimator:                robust                                         \n",
      "                                                                              \n",
      "                             Parameter Estimates                              \n",
      "==============================================================================\n",
      "            Parameter  Std. Err.     T-stat    P-value    Lower CI    Upper CI\n",
      "------------------------------------------------------------------------------\n",
      "Intercept      57.068     1.8772     30.400     0.0000      53.389      60.747\n",
      "black         -16.317     1.9476    -8.3779     0.0000     -20.134     -12.500\n",
      "hispanic      -13.775     2.4128    -5.7093     0.0000     -18.504     -9.0464\n",
      "female         1.3197     1.2779     1.0327     0.3017     -1.1850      3.8244\n",
      "choiceyrs     -0.2413     0.5918    -0.4078     0.6834     -1.4012      0.9186\n",
      "==============================================================================\n",
      "\n",
      "Endogenous: choiceyrs\n",
      "Instruments: selectyrs\n",
      "Robust Covariance (Heteroskedastic)\n",
      "Debiased: False\n"
     ]
    }
   ],
   "source": [
    "res_iv = iv.IV2SLS.from_formula('mnce ~ 1 + black + hispanic + female + [choiceyrs ~ selectyrs]', df).fit()\n",
    "print(res_iv.summary)"
   ]
  },
  {
   "cell_type": "markdown",
   "metadata": {},
   "source": [
    "<div class=\"alert alert-danger alertdanger\" style=\"margin-top: 20px\">\n",
    "<h3>alternative method</h3>"
   ]
  },
  {
   "cell_type": "code",
   "execution_count": 10,
   "metadata": {},
   "outputs": [],
   "source": [
    "from statsmodels.api import add_constant\n",
    "from linearmodels.iv import IV2SLS"
   ]
  },
  {
   "cell_type": "code",
   "execution_count": 11,
   "metadata": {},
   "outputs": [
    {
     "name": "stderr",
     "output_type": "stream",
     "text": [
      "C:\\Users\\Owner\\Anaconda3\\lib\\site-packages\\numpy\\core\\fromnumeric.py:2389: FutureWarning: Method .ptp is deprecated and will be removed in a future version. Use numpy.ptp instead.\n",
      "  return ptp(axis=axis, out=out, **kwargs)\n"
     ]
    }
   ],
   "source": [
    "df = add_constant(df, has_constant='add')"
   ]
  },
  {
   "cell_type": "code",
   "execution_count": 12,
   "metadata": {},
   "outputs": [],
   "source": [
    "dep = 'mnce'\n",
    "exog = ['const','black','hispanic','female']\n",
    "endog = ['choiceyrs']\n",
    "instr = ['selectyrs']"
   ]
  },
  {
   "cell_type": "code",
   "execution_count": 13,
   "metadata": {
    "scrolled": false
   },
   "outputs": [
    {
     "name": "stdout",
     "output_type": "stream",
     "text": [
      "                          IV-2SLS Estimation Summary                          \n",
      "==============================================================================\n",
      "Dep. Variable:                   mnce   R-squared:                      0.0864\n",
      "Estimator:                    IV-2SLS   Adj. R-squared:                 0.0827\n",
      "No. Observations:                 990   F-statistic:                    93.054\n",
      "Date:                Sat, Dec 07 2019   P-value (F-stat)                0.0000\n",
      "Time:                        12:39:19   Distribution:                  chi2(4)\n",
      "Cov. Estimator:            unadjusted                                         \n",
      "                                                                              \n",
      "                             Parameter Estimates                              \n",
      "==============================================================================\n",
      "            Parameter  Std. Err.     T-stat    P-value    Lower CI    Upper CI\n",
      "------------------------------------------------------------------------------\n",
      "const          57.068     1.6535     34.513     0.0000      53.827      60.309\n",
      "black         -16.317     1.8102    -9.0137     0.0000     -19.865     -12.769\n",
      "hispanic      -13.775     2.3353    -5.8987     0.0000     -18.353     -9.1982\n",
      "female         1.3197     1.2731     1.0366     0.2999     -1.1756      3.8150\n",
      "choiceyrs     -0.2413     0.6037    -0.3997     0.6894     -1.4246      0.9420\n",
      "==============================================================================\n",
      "\n",
      "Endogenous: choiceyrs\n",
      "Instruments: selectyrs\n",
      "Unadjusted Covariance (Homoskedastic)\n",
      "Debiased: False\n"
     ]
    }
   ],
   "source": [
    "reg4 = IV2SLS(df[dep],df[exog],df[endog],df[instr]).fit(cov_type='unadjusted')\n",
    "print(reg4)\n",
    "\n",
    "#reg4 = IV2SLS(df.mnce, df[['const','black','hispanic','female']], df.choiceyrs, df.selectyrs).fit(cov_type='unadjusted')"
   ]
  },
  {
   "cell_type": "markdown",
   "metadata": {},
   "source": [
    "<div class=\"alert alert-danger alertdanger\" style=\"margin-top: 20px\">\n",
    "There are two problems if we manually run 2SLS as we did in part 2 and 4. 1)It's tedious. 2)The standard errors are not correct. Both of these problems are solved by using a two state least squares estimator. "
   ]
  },
  {
   "cell_type": "markdown",
   "metadata": {},
   "source": [
    "<div class=\"alert alert-danger alertdanger\" style=\"margin-top: 20px\">\n",
    "<h1>Question 2</h1>"
   ]
  },
  {
   "cell_type": "markdown",
   "metadata": {},
   "source": [
    "There is a survey of House of Representatives elections in 1988 and 1990. Only winners from 1988 who are also running in 1990 appear in the sample; these are the incumbents. For the years 1988 and 1990, an unobserved effects model explaining the share of the incumbent’s vote in terms of expenditures by both candidates is\n",
    "$$vote_{it} = \\beta_0 + \\delta_0 d90_t + \\beta_1 log(inexp_{it}) + \\beta_2 log(chexp_{it}) + \\beta_3 incshr_{it} + a_i + u_{it}, t = 1,2,$$\n",
    "where  \n",
    "$d90_t$ is a dummy variable for 1990;  \n",
    "$inexp_{it}$ is the incumbent $i$’s spending in year $i$, in the dataset, they are $inexp88$ and $inexp90$ in 1988 and 1990 respectively;  \n",
    "$chexp_{it}$ is the challenger $i$'s spending in year $i$, in the dataset, they are $chexp88$ and $chexp90$ in 1988 and 1990 respectively;   \n",
    "$incshr_{it}$ is the incumbent $i$’s share of total campaign spending in year $i$ (in percentage form), eg. \n",
    "$incshr90 = 100 * {inexp90 \\over {inexp90+chexp90}}$;  \n",
    "$a_i$ is the unobserved effect and contains characteristics of the incumbent $i$ — such as “quality” — as well as things about the district that are constant. The incumbent $i$’s gender and party are constant over time, so these are subsumed in $a_i$.  "
   ]
  },
  {
   "cell_type": "markdown",
   "metadata": {},
   "source": [
    "Before we want to study further of the model, let's firstly use the dataset below the construct the model."
   ]
  },
  {
   "cell_type": "code",
   "execution_count": 1,
   "metadata": {},
   "outputs": [],
   "source": [
    "import pandas as pd\n",
    "import numpy as np\n",
    "import statsmodels.formula.api as smf"
   ]
  },
  {
   "cell_type": "code",
   "execution_count": 2,
   "metadata": {
    "scrolled": false
   },
   "outputs": [
    {
     "data": {
      "text/html": [
       "<div>\n",
       "<style scoped>\n",
       "    .dataframe tbody tr th:only-of-type {\n",
       "        vertical-align: middle;\n",
       "    }\n",
       "\n",
       "    .dataframe tbody tr th {\n",
       "        vertical-align: top;\n",
       "    }\n",
       "\n",
       "    .dataframe thead th {\n",
       "        text-align: right;\n",
       "    }\n",
       "</style>\n",
       "<table border=\"1\" class=\"dataframe\">\n",
       "  <thead>\n",
       "    <tr style=\"text-align: right;\">\n",
       "      <th></th>\n",
       "      <th>state</th>\n",
       "      <th>district</th>\n",
       "      <th>democ</th>\n",
       "      <th>vote90</th>\n",
       "      <th>vote88</th>\n",
       "      <th>inexp90</th>\n",
       "      <th>chexp90</th>\n",
       "      <th>inexp88</th>\n",
       "      <th>chexp88</th>\n",
       "      <th>tenure</th>\n",
       "      <th>lawyer</th>\n",
       "      <th>win88</th>\n",
       "      <th>win90</th>\n",
       "      <th>rptchall</th>\n",
       "    </tr>\n",
       "  </thead>\n",
       "  <tbody>\n",
       "    <tr>\n",
       "      <td>0</td>\n",
       "      <td>\"AL\"</td>\n",
       "      <td>2</td>\n",
       "      <td>0</td>\n",
       "      <td>51</td>\n",
       "      <td>94</td>\n",
       "      <td>596096</td>\n",
       "      <td>163663</td>\n",
       "      <td>234923</td>\n",
       "      <td>.</td>\n",
       "      <td>26</td>\n",
       "      <td>1</td>\n",
       "      <td>1</td>\n",
       "      <td>1</td>\n",
       "      <td>0</td>\n",
       "    </tr>\n",
       "    <tr>\n",
       "      <td>1</td>\n",
       "      <td>\"AL\"</td>\n",
       "      <td>3</td>\n",
       "      <td>1</td>\n",
       "      <td>74</td>\n",
       "      <td>65</td>\n",
       "      <td>176550</td>\n",
       "      <td>22989</td>\n",
       "      <td>679297</td>\n",
       "      <td>443927</td>\n",
       "      <td>1</td>\n",
       "      <td>0</td>\n",
       "      <td>1</td>\n",
       "      <td>1</td>\n",
       "      <td>0</td>\n",
       "    </tr>\n",
       "    <tr>\n",
       "      <td>2</td>\n",
       "      <td>\"AL\"</td>\n",
       "      <td>7</td>\n",
       "      <td>1</td>\n",
       "      <td>71</td>\n",
       "      <td>68</td>\n",
       "      <td>238446</td>\n",
       "      <td>58952</td>\n",
       "      <td>328296</td>\n",
       "      <td>8737</td>\n",
       "      <td>4</td>\n",
       "      <td>1</td>\n",
       "      <td>1</td>\n",
       "      <td>1</td>\n",
       "      <td>0</td>\n",
       "    </tr>\n",
       "    <tr>\n",
       "      <td>3</td>\n",
       "      <td>\"AK\"</td>\n",
       "      <td>1</td>\n",
       "      <td>0</td>\n",
       "      <td>52</td>\n",
       "      <td>62</td>\n",
       "      <td>564759</td>\n",
       "      <td>164732</td>\n",
       "      <td>626377</td>\n",
       "      <td>402477</td>\n",
       "      <td>17</td>\n",
       "      <td>0</td>\n",
       "      <td>1</td>\n",
       "      <td>1</td>\n",
       "      <td>0</td>\n",
       "    </tr>\n",
       "    <tr>\n",
       "      <td>4</td>\n",
       "      <td>\"AZ\"</td>\n",
       "      <td>2</td>\n",
       "      <td>1</td>\n",
       "      <td>66</td>\n",
       "      <td>73</td>\n",
       "      <td>112373</td>\n",
       "      <td>1445</td>\n",
       "      <td>99607</td>\n",
       "      <td>3065</td>\n",
       "      <td>29</td>\n",
       "      <td>1</td>\n",
       "      <td>1</td>\n",
       "      <td>1</td>\n",
       "      <td>1</td>\n",
       "    </tr>\n",
       "  </tbody>\n",
       "</table>\n",
       "</div>"
      ],
      "text/plain": [
       "  state  district   democ  vote90  vote88  inexp90  chexp90  inexp88 chexp88  \\\n",
       "0  \"AL\"          2      0      51      94   596096   163663   234923       .   \n",
       "1  \"AL\"          3      1      74      65   176550    22989   679297  443927   \n",
       "2  \"AL\"          7      1      71      68   238446    58952   328296    8737   \n",
       "3  \"AK\"          1      0      52      62   564759   164732   626377  402477   \n",
       "4  \"AZ\"          2      1      66      73   112373     1445    99607    3065   \n",
       "\n",
       "  tenure lawyer  win88  win90  rptchall  \n",
       "0     26      1      1      1         0  \n",
       "1      1      0      1      1         0  \n",
       "2      4      1      1      1         0  \n",
       "3     17      0      1      1         0  \n",
       "4     29      1      1      1         1  "
      ]
     },
     "execution_count": 2,
     "metadata": {},
     "output_type": "execute_result"
    }
   ],
   "source": [
    "df3 = pd.read_csv('https://github.com/MariaMeng22/econometric-001/raw/master/vote_new.csv')\n",
    "df3.head()"
   ]
  },
  {
   "cell_type": "markdown",
   "metadata": {},
   "source": [
    "(1) Generate $log(inexp_{it}$) and $log(chexp_{it})$ from $inexp_{it}$ and $chexp_{it}$. For example, in the dataset, get $linexp90$ by taking the logarithm of $inexp90$.\n",
    "\n",
    "(2) Generate $incshr_{it}$ accoding to its definition, name it to $incshr88$ and $incshr90$ for 1988 and 1990 respectively.  "
   ]
  },
  {
   "cell_type": "markdown",
   "metadata": {},
   "source": [
    "<div class=\"alert alert-danger alertdanger\" style=\"margin-top: 20px\">\n",
    "<h3>part 1</h3>"
   ]
  },
  {
   "cell_type": "code",
   "execution_count": 3,
   "metadata": {},
   "outputs": [],
   "source": [
    "#Before dropping null, we need to drop those variables we won't use which also contain null\n",
    "df3 = df3.drop(['tenure', 'lawyer'], axis = 1)\n",
    "#df3 = df3[['state', 'district','democ', 'vote90', 'vote88', 'inexp90', 'chexp90','inexp88', 'chexp88', 'win88', 'win90', 'rptchall']]"
   ]
  },
  {
   "cell_type": "code",
   "execution_count": 4,
   "metadata": {},
   "outputs": [
    {
     "data": {
      "text/plain": [
       "(157, 12)"
      ]
     },
     "execution_count": 4,
     "metadata": {},
     "output_type": "execute_result"
    }
   ],
   "source": [
    "#drop the null for our variables in use\n",
    "df3 = df3.replace('\\.+', np.nan, regex=True).dropna()\n",
    "#check the sample size after dropping\n",
    "df3.shape"
   ]
  },
  {
   "cell_type": "code",
   "execution_count": 5,
   "metadata": {},
   "outputs": [],
   "source": [
    "#Before doing computations among columns, we first need to convert column type into float\n",
    "df3[['inexp88', 'inexp90','chexp88','chexp90']] = \\\n",
    "df3[['inexp88', 'inexp90','chexp88','chexp90']].astype(float)"
   ]
  },
  {
   "cell_type": "code",
   "execution_count": 6,
   "metadata": {},
   "outputs": [
    {
     "data": {
      "text/html": [
       "<div>\n",
       "<style scoped>\n",
       "    .dataframe tbody tr th:only-of-type {\n",
       "        vertical-align: middle;\n",
       "    }\n",
       "\n",
       "    .dataframe tbody tr th {\n",
       "        vertical-align: top;\n",
       "    }\n",
       "\n",
       "    .dataframe thead th {\n",
       "        text-align: right;\n",
       "    }\n",
       "</style>\n",
       "<table border=\"1\" class=\"dataframe\">\n",
       "  <thead>\n",
       "    <tr style=\"text-align: right;\">\n",
       "      <th></th>\n",
       "      <th>state</th>\n",
       "      <th>district</th>\n",
       "      <th>democ</th>\n",
       "      <th>vote90</th>\n",
       "      <th>vote88</th>\n",
       "      <th>inexp90</th>\n",
       "      <th>chexp90</th>\n",
       "      <th>inexp88</th>\n",
       "      <th>chexp88</th>\n",
       "      <th>win88</th>\n",
       "      <th>win90</th>\n",
       "      <th>rptchall</th>\n",
       "      <th>linexp90</th>\n",
       "      <th>linexp88</th>\n",
       "      <th>lchexp88</th>\n",
       "      <th>lchexp90</th>\n",
       "    </tr>\n",
       "  </thead>\n",
       "  <tbody>\n",
       "    <tr>\n",
       "      <td>1</td>\n",
       "      <td>\"AL\"</td>\n",
       "      <td>3</td>\n",
       "      <td>1</td>\n",
       "      <td>74</td>\n",
       "      <td>65</td>\n",
       "      <td>176550.0</td>\n",
       "      <td>22989.0</td>\n",
       "      <td>679297.0</td>\n",
       "      <td>443927.0</td>\n",
       "      <td>1</td>\n",
       "      <td>1</td>\n",
       "      <td>0</td>\n",
       "      <td>12.081359</td>\n",
       "      <td>13.428814</td>\n",
       "      <td>13.003415</td>\n",
       "      <td>10.042771</td>\n",
       "    </tr>\n",
       "    <tr>\n",
       "      <td>2</td>\n",
       "      <td>\"AL\"</td>\n",
       "      <td>7</td>\n",
       "      <td>1</td>\n",
       "      <td>71</td>\n",
       "      <td>68</td>\n",
       "      <td>238446.0</td>\n",
       "      <td>58952.0</td>\n",
       "      <td>328296.0</td>\n",
       "      <td>8737.0</td>\n",
       "      <td>1</td>\n",
       "      <td>1</td>\n",
       "      <td>0</td>\n",
       "      <td>12.381898</td>\n",
       "      <td>12.701671</td>\n",
       "      <td>9.075322</td>\n",
       "      <td>10.984479</td>\n",
       "    </tr>\n",
       "    <tr>\n",
       "      <td>3</td>\n",
       "      <td>\"AK\"</td>\n",
       "      <td>1</td>\n",
       "      <td>0</td>\n",
       "      <td>52</td>\n",
       "      <td>62</td>\n",
       "      <td>564759.0</td>\n",
       "      <td>164732.0</td>\n",
       "      <td>626377.0</td>\n",
       "      <td>402477.0</td>\n",
       "      <td>1</td>\n",
       "      <td>1</td>\n",
       "      <td>0</td>\n",
       "      <td>13.244154</td>\n",
       "      <td>13.347708</td>\n",
       "      <td>12.905393</td>\n",
       "      <td>12.012075</td>\n",
       "    </tr>\n",
       "    <tr>\n",
       "      <td>4</td>\n",
       "      <td>\"AZ\"</td>\n",
       "      <td>2</td>\n",
       "      <td>1</td>\n",
       "      <td>66</td>\n",
       "      <td>73</td>\n",
       "      <td>112373.0</td>\n",
       "      <td>1445.0</td>\n",
       "      <td>99607.0</td>\n",
       "      <td>3065.0</td>\n",
       "      <td>1</td>\n",
       "      <td>1</td>\n",
       "      <td>1</td>\n",
       "      <td>11.629579</td>\n",
       "      <td>11.508988</td>\n",
       "      <td>8.027803</td>\n",
       "      <td>7.275865</td>\n",
       "    </tr>\n",
       "    <tr>\n",
       "      <td>5</td>\n",
       "      <td>\"AZ\"</td>\n",
       "      <td>3</td>\n",
       "      <td>0</td>\n",
       "      <td>57</td>\n",
       "      <td>69</td>\n",
       "      <td>225149.0</td>\n",
       "      <td>9353.0</td>\n",
       "      <td>319690.0</td>\n",
       "      <td>26281.0</td>\n",
       "      <td>1</td>\n",
       "      <td>1</td>\n",
       "      <td>0</td>\n",
       "      <td>12.324518</td>\n",
       "      <td>12.675107</td>\n",
       "      <td>10.176602</td>\n",
       "      <td>9.143452</td>\n",
       "    </tr>\n",
       "  </tbody>\n",
       "</table>\n",
       "</div>"
      ],
      "text/plain": [
       "  state  district   democ  vote90  vote88   inexp90   chexp90   inexp88  \\\n",
       "1  \"AL\"          3      1      74      65  176550.0   22989.0  679297.0   \n",
       "2  \"AL\"          7      1      71      68  238446.0   58952.0  328296.0   \n",
       "3  \"AK\"          1      0      52      62  564759.0  164732.0  626377.0   \n",
       "4  \"AZ\"          2      1      66      73  112373.0    1445.0   99607.0   \n",
       "5  \"AZ\"          3      0      57      69  225149.0    9353.0  319690.0   \n",
       "\n",
       "    chexp88  win88  win90  rptchall   linexp90   linexp88   lchexp88  \\\n",
       "1  443927.0      1      1         0  12.081359  13.428814  13.003415   \n",
       "2    8737.0      1      1         0  12.381898  12.701671   9.075322   \n",
       "3  402477.0      1      1         0  13.244154  13.347708  12.905393   \n",
       "4    3065.0      1      1         1  11.629579  11.508988   8.027803   \n",
       "5   26281.0      1      1         0  12.324518  12.675107  10.176602   \n",
       "\n",
       "    lchexp90  \n",
       "1  10.042771  \n",
       "2  10.984479  \n",
       "3  12.012075  \n",
       "4   7.275865  \n",
       "5   9.143452  "
      ]
     },
     "execution_count": 6,
     "metadata": {},
     "output_type": "execute_result"
    }
   ],
   "source": [
    "#Add computed columns\n",
    "df3['linexp90']=np.log(df3['inexp90'].astype('float64'))\n",
    "df3['linexp88']=np.log(df3['inexp88'].astype('float64'))\n",
    "df3['lchexp88']=np.log(df3['chexp88'].astype('float64'))\n",
    "df3['lchexp90']=np.log(df3['chexp90'].astype('float64'))\n",
    "df3.head()"
   ]
  },
  {
   "cell_type": "markdown",
   "metadata": {},
   "source": [
    "<div class=\"alert alert-danger alertdanger\" style=\"margin-top: 20px\">\n",
    "<h3>part 2</h3>"
   ]
  },
  {
   "cell_type": "code",
   "execution_count": 7,
   "metadata": {},
   "outputs": [],
   "source": [
    "df3['incshr90'] = 100 * df3['inexp90'] / (df3['inexp90'] + df3['chexp90']).astype('float64')\n",
    "df3['incshr88'] = 100 * df3['inexp88'] / (df3['inexp88'] + df3['chexp88']).astype('float64')"
   ]
  },
  {
   "cell_type": "code",
   "execution_count": 8,
   "metadata": {
    "scrolled": true
   },
   "outputs": [
    {
     "data": {
      "text/html": [
       "<div>\n",
       "<style scoped>\n",
       "    .dataframe tbody tr th:only-of-type {\n",
       "        vertical-align: middle;\n",
       "    }\n",
       "\n",
       "    .dataframe tbody tr th {\n",
       "        vertical-align: top;\n",
       "    }\n",
       "\n",
       "    .dataframe thead th {\n",
       "        text-align: right;\n",
       "    }\n",
       "</style>\n",
       "<table border=\"1\" class=\"dataframe\">\n",
       "  <thead>\n",
       "    <tr style=\"text-align: right;\">\n",
       "      <th></th>\n",
       "      <th>state</th>\n",
       "      <th>district</th>\n",
       "      <th>democ</th>\n",
       "      <th>vote90</th>\n",
       "      <th>vote88</th>\n",
       "      <th>inexp90</th>\n",
       "      <th>chexp90</th>\n",
       "      <th>inexp88</th>\n",
       "      <th>chexp88</th>\n",
       "      <th>win88</th>\n",
       "      <th>win90</th>\n",
       "      <th>rptchall</th>\n",
       "      <th>linexp90</th>\n",
       "      <th>linexp88</th>\n",
       "      <th>lchexp88</th>\n",
       "      <th>lchexp90</th>\n",
       "      <th>incshr90</th>\n",
       "      <th>incshr88</th>\n",
       "    </tr>\n",
       "  </thead>\n",
       "  <tbody>\n",
       "    <tr>\n",
       "      <td>1</td>\n",
       "      <td>\"AL\"</td>\n",
       "      <td>3</td>\n",
       "      <td>1</td>\n",
       "      <td>74</td>\n",
       "      <td>65</td>\n",
       "      <td>176550.0</td>\n",
       "      <td>22989.0</td>\n",
       "      <td>679297.0</td>\n",
       "      <td>443927.0</td>\n",
       "      <td>1</td>\n",
       "      <td>1</td>\n",
       "      <td>0</td>\n",
       "      <td>12.081359</td>\n",
       "      <td>13.428814</td>\n",
       "      <td>13.003415</td>\n",
       "      <td>10.042771</td>\n",
       "      <td>88.478944</td>\n",
       "      <td>60.477429</td>\n",
       "    </tr>\n",
       "    <tr>\n",
       "      <td>2</td>\n",
       "      <td>\"AL\"</td>\n",
       "      <td>7</td>\n",
       "      <td>1</td>\n",
       "      <td>71</td>\n",
       "      <td>68</td>\n",
       "      <td>238446.0</td>\n",
       "      <td>58952.0</td>\n",
       "      <td>328296.0</td>\n",
       "      <td>8737.0</td>\n",
       "      <td>1</td>\n",
       "      <td>1</td>\n",
       "      <td>0</td>\n",
       "      <td>12.381898</td>\n",
       "      <td>12.701671</td>\n",
       "      <td>9.075322</td>\n",
       "      <td>10.984479</td>\n",
       "      <td>80.177405</td>\n",
       "      <td>97.407672</td>\n",
       "    </tr>\n",
       "    <tr>\n",
       "      <td>3</td>\n",
       "      <td>\"AK\"</td>\n",
       "      <td>1</td>\n",
       "      <td>0</td>\n",
       "      <td>52</td>\n",
       "      <td>62</td>\n",
       "      <td>564759.0</td>\n",
       "      <td>164732.0</td>\n",
       "      <td>626377.0</td>\n",
       "      <td>402477.0</td>\n",
       "      <td>1</td>\n",
       "      <td>1</td>\n",
       "      <td>0</td>\n",
       "      <td>13.244154</td>\n",
       "      <td>13.347708</td>\n",
       "      <td>12.905393</td>\n",
       "      <td>12.012075</td>\n",
       "      <td>77.418227</td>\n",
       "      <td>60.881039</td>\n",
       "    </tr>\n",
       "    <tr>\n",
       "      <td>4</td>\n",
       "      <td>\"AZ\"</td>\n",
       "      <td>2</td>\n",
       "      <td>1</td>\n",
       "      <td>66</td>\n",
       "      <td>73</td>\n",
       "      <td>112373.0</td>\n",
       "      <td>1445.0</td>\n",
       "      <td>99607.0</td>\n",
       "      <td>3065.0</td>\n",
       "      <td>1</td>\n",
       "      <td>1</td>\n",
       "      <td>1</td>\n",
       "      <td>11.629579</td>\n",
       "      <td>11.508988</td>\n",
       "      <td>8.027803</td>\n",
       "      <td>7.275865</td>\n",
       "      <td>98.730429</td>\n",
       "      <td>97.014765</td>\n",
       "    </tr>\n",
       "    <tr>\n",
       "      <td>5</td>\n",
       "      <td>\"AZ\"</td>\n",
       "      <td>3</td>\n",
       "      <td>0</td>\n",
       "      <td>57</td>\n",
       "      <td>69</td>\n",
       "      <td>225149.0</td>\n",
       "      <td>9353.0</td>\n",
       "      <td>319690.0</td>\n",
       "      <td>26281.0</td>\n",
       "      <td>1</td>\n",
       "      <td>1</td>\n",
       "      <td>0</td>\n",
       "      <td>12.324518</td>\n",
       "      <td>12.675107</td>\n",
       "      <td>10.176602</td>\n",
       "      <td>9.143452</td>\n",
       "      <td>96.011548</td>\n",
       "      <td>92.403699</td>\n",
       "    </tr>\n",
       "  </tbody>\n",
       "</table>\n",
       "</div>"
      ],
      "text/plain": [
       "  state  district   democ  vote90  vote88   inexp90   chexp90   inexp88  \\\n",
       "1  \"AL\"          3      1      74      65  176550.0   22989.0  679297.0   \n",
       "2  \"AL\"          7      1      71      68  238446.0   58952.0  328296.0   \n",
       "3  \"AK\"          1      0      52      62  564759.0  164732.0  626377.0   \n",
       "4  \"AZ\"          2      1      66      73  112373.0    1445.0   99607.0   \n",
       "5  \"AZ\"          3      0      57      69  225149.0    9353.0  319690.0   \n",
       "\n",
       "    chexp88  win88  win90  rptchall   linexp90   linexp88   lchexp88  \\\n",
       "1  443927.0      1      1         0  12.081359  13.428814  13.003415   \n",
       "2    8737.0      1      1         0  12.381898  12.701671   9.075322   \n",
       "3  402477.0      1      1         0  13.244154  13.347708  12.905393   \n",
       "4    3065.0      1      1         1  11.629579  11.508988   8.027803   \n",
       "5   26281.0      1      1         0  12.324518  12.675107  10.176602   \n",
       "\n",
       "    lchexp90   incshr90   incshr88  \n",
       "1  10.042771  88.478944  60.477429  \n",
       "2  10.984479  80.177405  97.407672  \n",
       "3  12.012075  77.418227  60.881039  \n",
       "4   7.275865  98.730429  97.014765  \n",
       "5   9.143452  96.011548  92.403699  "
      ]
     },
     "execution_count": 8,
     "metadata": {},
     "output_type": "execute_result"
    }
   ],
   "source": [
    "df3.head()"
   ]
  },
  {
   "cell_type": "markdown",
   "metadata": {},
   "source": [
    "According to the model we constructed, we are interested in the effect of campaign expenditures on election outcomes.   \n",
    "\n",
    "(3) Difference the given equation across the two years and estimate the differenced equation by OLS. Which variables are individually significant at the 5% level (you can name the differenced variable as you want)?  \n",
    "\n",
    "(4) In the equation from part (3), test for joint significance of the explanatory variables. Report the p-value.  <span style=\"color:red\">(That is, the overal significance of a regression, which is a test of the joint significance of all explanatory variables appearing in a multiple regression equation, test for overall significance is a special case of test for joint significance, see more in the solution. )\n",
    "\n",
    "(5) Reestimate the equation from part (3) using $\\Delta incshr$ as the only independent variable. Interpret the coefficient on $\\Delta incshr$. \n",
    "\n",
    "(6) Redo part (3), but now use only the pairs that have repeat challengers. (This allows us to control for characteristics of the challengers as well, which would be in $a_i$)"
   ]
  },
  {
   "cell_type": "markdown",
   "metadata": {},
   "source": [
    "<div class=\"alert alert-danger alertdanger\" style=\"margin-top: 20px\">\n",
    "<h3>part 3</h3>"
   ]
  },
  {
   "cell_type": "code",
   "execution_count": 22,
   "metadata": {},
   "outputs": [],
   "source": [
    "df3['cvote'] = df3['vote90'] - df3['vote88'] \n",
    "df3['clinexp'] = df3['linexp90'] - df3['linexp88'] \n",
    "df3['clchexp'] = df3['lchexp90'] - df3['lchexp88'] \n",
    "df3['cincshr'] = df3['incshr90'] - df3['incshr88'] \n",
    "df3['cvote'] = df3['vote90'] - df3['vote88']"
   ]
  },
  {
   "cell_type": "code",
   "execution_count": 23,
   "metadata": {
    "scrolled": false
   },
   "outputs": [
    {
     "name": "stdout",
     "output_type": "stream",
     "text": [
      "                            OLS Regression Results                            \n",
      "==============================================================================\n",
      "Dep. Variable:                  cvote   R-squared:                       0.244\n",
      "Model:                            OLS   Adj. R-squared:                  0.229\n",
      "Method:                 Least Squares   F-statistic:                     16.43\n",
      "Date:                Sat, 07 Dec 2019   Prob (F-statistic):           2.63e-09\n",
      "Time:                        12:39:22   Log-Likelihood:                -541.49\n",
      "No. Observations:                 157   AIC:                             1091.\n",
      "Df Residuals:                     153   BIC:                             1103.\n",
      "Df Model:                           3                                         \n",
      "Covariance Type:            nonrobust                                         \n",
      "==============================================================================\n",
      "                 coef    std err          t      P>|t|      [0.025      0.975]\n",
      "------------------------------------------------------------------------------\n",
      "Intercept     -2.5559      0.631     -4.051      0.000      -3.802      -1.310\n",
      "clinexp       -1.2915      1.382     -0.934      0.352      -4.022       1.439\n",
      "clchexp       -0.5985      0.711     -0.841      0.401      -2.004       0.807\n",
      "cincshr        0.1559      0.064      2.448      0.016       0.030       0.282\n",
      "==============================================================================\n",
      "Omnibus:                       70.428   Durbin-Watson:                   1.830\n",
      "Prob(Omnibus):                  0.000   Jarque-Bera (JB):              506.142\n",
      "Skew:                           1.420   Prob(JB):                    1.24e-110\n",
      "Kurtosis:                      11.325   Cond. No.                         45.6\n",
      "==============================================================================\n",
      "\n",
      "Warnings:\n",
      "[1] Standard Errors assume that the covariance matrix of the errors is correctly specified.\n"
     ]
    }
   ],
   "source": [
    "reg = smf.ols('cvote ~ clinexp + clchexp + cincshr',data=df3).fit()\n",
    "print(reg.summary())"
   ]
  },
  {
   "cell_type": "markdown",
   "metadata": {},
   "source": [
    "<div class=\"alert alert-danger alertdanger\" style=\"margin-top: 20px\">\n",
    "For the year 1988, the unobserved effects model is\n",
    "$vote_{i,1988} = \\beta_0 + \\beta_1 log(inexp_{i,1988}) + \\beta_2  log(chexp_{i,1988}) + \\beta_3 incshr_{i,1988} + \\alpha_i + u_{i,1988} $\n",
    "For the year 1990, the unobserved effects model is\n",
    "$vote_{i,1990} = \\beta_0 + \\delta_0 + \\beta_1 log(inexp_{i,1990}) + \\beta_2  log(chexp_{i,1990}) + \\beta_3 incshr_{i,1990} + \\alpha_i + u_{i,1990} $\n",
    "On differencing the given equation across the two years, the model is\n",
    "    $\\Delta vote_i = \\delta_0 + \\beta_1 \\Delta log(inexp_i) + \\beta_2 \\Delta log(chexp_i) + \\beta_3 \\Delta incshr_i + \\Delta u_i $\n",
    "\n",
    "The coefficient of the explanatory variable $\\Delta incshr$ has the p-value .0155 which is less than the critical p-value of 0.05 at 5% level of significance, thereby, indicating that this variable is individually significant at the 5% level of significance. \n",
    "\n",
    "Rest of the explanatory variables is not statistically significant astheir respective p-value is greater than the critical p-value of 0.05 at 5% level of significance."
   ]
  },
  {
   "cell_type": "markdown",
   "metadata": {},
   "source": [
    "<div class=\"alert alert-danger alertdanger\" style=\"margin-top: 20px\">\n",
    "<h3>part 4</h3>\n",
    "\n",
    "F-statistics in the results output is 16.43, p-value is approximately to 0, that is, the model passes the test for overall significance at 0.05 level of significance.\n",
    "\n",
    "<span style=\"color:red\">If you want to test the overall significance, the formula is\n",
    "    \n",
    "<span style=\"color:red\">$F_{k,N-k-1}$ = $R^2/k \\over (1 - R^2)/(N-k-1)$\n",
    "\n",
    "<span style=\"color:red\">If you want to test the joint significance of some of explanatory varaibles, not all, for exmaple, as in my original question, to test for joint significance of $clinexp$ and $clchexp$, the formula is\n",
    "\n",
    "<span style=\"color:red\">$F_{q,N-k-1}$ = $(R^2_R - R^2_{UR})/q \\over R^2_{UR}/(N-k-1)$\n",
    "\n",
    "<span style=\"color:red\">See an example https://tien89.wordpress.com/tag/jointly-significant/ for reference."
   ]
  },
  {
   "cell_type": "markdown",
   "metadata": {},
   "source": [
    "<div class=\"alert alert-danger alertdanger\" style=\"margin-top: 20px\">\n",
    "<h3>part 5</h3>"
   ]
  },
  {
   "cell_type": "code",
   "execution_count": 24,
   "metadata": {},
   "outputs": [
    {
     "name": "stdout",
     "output_type": "stream",
     "text": [
      "                            OLS Regression Results                            \n",
      "==============================================================================\n",
      "Dep. Variable:                  cvote   R-squared:                       0.229\n",
      "Model:                            OLS   Adj. R-squared:                  0.224\n",
      "Method:                 Least Squares   F-statistic:                     45.97\n",
      "Date:                Sat, 07 Dec 2019   Prob (F-statistic):           2.38e-10\n",
      "Time:                        12:39:22   Log-Likelihood:                -543.02\n",
      "No. Observations:                 157   AIC:                             1090.\n",
      "Df Residuals:                     155   BIC:                             1096.\n",
      "Df Model:                           1                                         \n",
      "Covariance Type:            nonrobust                                         \n",
      "==============================================================================\n",
      "                 coef    std err          t      P>|t|      [0.025      0.975]\n",
      "------------------------------------------------------------------------------\n",
      "Intercept     -2.6811      0.625     -4.288      0.000      -3.916      -1.446\n",
      "cincshr        0.2176      0.032      6.780      0.000       0.154       0.281\n",
      "==============================================================================\n",
      "Omnibus:                       64.366   Durbin-Watson:                   1.844\n",
      "Prob(Omnibus):                  0.000   Jarque-Bera (JB):              438.178\n",
      "Skew:                           1.283   Prob(JB):                     7.09e-96\n",
      "Kurtosis:                      10.772   Cond. No.                         19.7\n",
      "==============================================================================\n",
      "\n",
      "Warnings:\n",
      "[1] Standard Errors assume that the covariance matrix of the errors is correctly specified.\n"
     ]
    }
   ],
   "source": [
    "reg2 = smf.ols('cvote ~ cincshr',data=df3).fit()\n",
    "print(reg2.summary())"
   ]
  },
  {
   "cell_type": "markdown",
   "metadata": {},
   "source": [
    "<div class=\"alert alert-danger alertdanger\" style=\"margin-top: 20px\">\n",
    "The coefficient of $\\Delta incshr$ is 0.2176, indicating that a 10% increase in the incumbent's share of total spending $incshr$ leads to 2.18% increase in incumbent's vote."
   ]
  },
  {
   "cell_type": "markdown",
   "metadata": {},
   "source": [
    "<div class=\"alert alert-danger alertdanger\" style=\"margin-top: 20px\">\n",
    "<h3>part 6</h3>"
   ]
  },
  {
   "cell_type": "code",
   "execution_count": 25,
   "metadata": {
    "scrolled": false
   },
   "outputs": [
    {
     "data": {
      "text/html": [
       "<div>\n",
       "<style scoped>\n",
       "    .dataframe tbody tr th:only-of-type {\n",
       "        vertical-align: middle;\n",
       "    }\n",
       "\n",
       "    .dataframe tbody tr th {\n",
       "        vertical-align: top;\n",
       "    }\n",
       "\n",
       "    .dataframe thead th {\n",
       "        text-align: right;\n",
       "    }\n",
       "</style>\n",
       "<table border=\"1\" class=\"dataframe\">\n",
       "  <thead>\n",
       "    <tr style=\"text-align: right;\">\n",
       "      <th></th>\n",
       "      <th>state</th>\n",
       "      <th>district</th>\n",
       "      <th>democ</th>\n",
       "      <th>vote90</th>\n",
       "      <th>vote88</th>\n",
       "      <th>inexp90</th>\n",
       "      <th>chexp90</th>\n",
       "      <th>inexp88</th>\n",
       "      <th>chexp88</th>\n",
       "      <th>win88</th>\n",
       "      <th>...</th>\n",
       "      <th>linexp90</th>\n",
       "      <th>linexp88</th>\n",
       "      <th>lchexp88</th>\n",
       "      <th>lchexp90</th>\n",
       "      <th>incshr90</th>\n",
       "      <th>incshr88</th>\n",
       "      <th>cvote</th>\n",
       "      <th>clinexp</th>\n",
       "      <th>clchexp</th>\n",
       "      <th>cincshr</th>\n",
       "    </tr>\n",
       "  </thead>\n",
       "  <tbody>\n",
       "    <tr>\n",
       "      <td>4</td>\n",
       "      <td>\"AZ\"</td>\n",
       "      <td>2</td>\n",
       "      <td>1</td>\n",
       "      <td>66</td>\n",
       "      <td>73</td>\n",
       "      <td>112373.0</td>\n",
       "      <td>1445.0</td>\n",
       "      <td>99607.0</td>\n",
       "      <td>3065.0</td>\n",
       "      <td>1</td>\n",
       "      <td>...</td>\n",
       "      <td>11.629579</td>\n",
       "      <td>11.508988</td>\n",
       "      <td>8.027803</td>\n",
       "      <td>7.275865</td>\n",
       "      <td>98.730429</td>\n",
       "      <td>97.014765</td>\n",
       "      <td>-7</td>\n",
       "      <td>0.120591</td>\n",
       "      <td>-0.751938</td>\n",
       "      <td>1.715664</td>\n",
       "    </tr>\n",
       "    <tr>\n",
       "      <td>10</td>\n",
       "      <td>\"CA\"</td>\n",
       "      <td>3</td>\n",
       "      <td>1</td>\n",
       "      <td>60</td>\n",
       "      <td>71</td>\n",
       "      <td>734005.0</td>\n",
       "      <td>4628.0</td>\n",
       "      <td>638688.0</td>\n",
       "      <td>7695.0</td>\n",
       "      <td>1</td>\n",
       "      <td>...</td>\n",
       "      <td>13.506271</td>\n",
       "      <td>13.367171</td>\n",
       "      <td>8.948326</td>\n",
       "      <td>8.439880</td>\n",
       "      <td>99.373437</td>\n",
       "      <td>98.809529</td>\n",
       "      <td>-11</td>\n",
       "      <td>0.139100</td>\n",
       "      <td>-0.508446</td>\n",
       "      <td>0.563908</td>\n",
       "    </tr>\n",
       "    <tr>\n",
       "      <td>16</td>\n",
       "      <td>\"CA\"</td>\n",
       "      <td>11</td>\n",
       "      <td>1</td>\n",
       "      <td>66</td>\n",
       "      <td>71</td>\n",
       "      <td>620782.0</td>\n",
       "      <td>97030.0</td>\n",
       "      <td>269510.0</td>\n",
       "      <td>95575.0</td>\n",
       "      <td>1</td>\n",
       "      <td>...</td>\n",
       "      <td>13.338735</td>\n",
       "      <td>12.504361</td>\n",
       "      <td>11.467667</td>\n",
       "      <td>11.482775</td>\n",
       "      <td>86.482533</td>\n",
       "      <td>73.821165</td>\n",
       "      <td>-5</td>\n",
       "      <td>0.834374</td>\n",
       "      <td>0.015109</td>\n",
       "      <td>12.661368</td>\n",
       "    </tr>\n",
       "    <tr>\n",
       "      <td>21</td>\n",
       "      <td>\"CA\"</td>\n",
       "      <td>23</td>\n",
       "      <td>1</td>\n",
       "      <td>62</td>\n",
       "      <td>64</td>\n",
       "      <td>201404.0</td>\n",
       "      <td>360389.0</td>\n",
       "      <td>140486.0</td>\n",
       "      <td>100956.0</td>\n",
       "      <td>1</td>\n",
       "      <td>...</td>\n",
       "      <td>12.213068</td>\n",
       "      <td>11.852863</td>\n",
       "      <td>11.522440</td>\n",
       "      <td>12.794939</td>\n",
       "      <td>35.850215</td>\n",
       "      <td>58.186231</td>\n",
       "      <td>-2</td>\n",
       "      <td>0.360205</td>\n",
       "      <td>1.272499</td>\n",
       "      <td>-22.336016</td>\n",
       "    </tr>\n",
       "    <tr>\n",
       "      <td>22</td>\n",
       "      <td>\"CA\"</td>\n",
       "      <td>24</td>\n",
       "      <td>1</td>\n",
       "      <td>69</td>\n",
       "      <td>72</td>\n",
       "      <td>287505.0</td>\n",
       "      <td>1830.0</td>\n",
       "      <td>191334.0</td>\n",
       "      <td>15449.0</td>\n",
       "      <td>1</td>\n",
       "      <td>...</td>\n",
       "      <td>12.568996</td>\n",
       "      <td>12.161776</td>\n",
       "      <td>9.645300</td>\n",
       "      <td>7.512071</td>\n",
       "      <td>99.367515</td>\n",
       "      <td>92.528883</td>\n",
       "      <td>-3</td>\n",
       "      <td>0.407220</td>\n",
       "      <td>-2.133228</td>\n",
       "      <td>6.838632</td>\n",
       "    </tr>\n",
       "  </tbody>\n",
       "</table>\n",
       "<p>5 rows × 22 columns</p>\n",
       "</div>"
      ],
      "text/plain": [
       "   state  district   democ  vote90  vote88   inexp90   chexp90   inexp88  \\\n",
       "4   \"AZ\"          2      1      66      73  112373.0    1445.0   99607.0   \n",
       "10  \"CA\"          3      1      60      71  734005.0    4628.0  638688.0   \n",
       "16  \"CA\"         11      1      66      71  620782.0   97030.0  269510.0   \n",
       "21  \"CA\"         23      1      62      64  201404.0  360389.0  140486.0   \n",
       "22  \"CA\"         24      1      69      72  287505.0    1830.0  191334.0   \n",
       "\n",
       "     chexp88  win88  ...   linexp90   linexp88   lchexp88   lchexp90  \\\n",
       "4     3065.0      1  ...  11.629579  11.508988   8.027803   7.275865   \n",
       "10    7695.0      1  ...  13.506271  13.367171   8.948326   8.439880   \n",
       "16   95575.0      1  ...  13.338735  12.504361  11.467667  11.482775   \n",
       "21  100956.0      1  ...  12.213068  11.852863  11.522440  12.794939   \n",
       "22   15449.0      1  ...  12.568996  12.161776   9.645300   7.512071   \n",
       "\n",
       "     incshr90   incshr88  cvote   clinexp   clchexp    cincshr  \n",
       "4   98.730429  97.014765     -7  0.120591 -0.751938   1.715664  \n",
       "10  99.373437  98.809529    -11  0.139100 -0.508446   0.563908  \n",
       "16  86.482533  73.821165     -5  0.834374  0.015109  12.661368  \n",
       "21  35.850215  58.186231     -2  0.360205  1.272499 -22.336016  \n",
       "22  99.367515  92.528883     -3  0.407220 -2.133228   6.838632  \n",
       "\n",
       "[5 rows x 22 columns]"
      ]
     },
     "execution_count": 25,
     "metadata": {},
     "output_type": "execute_result"
    }
   ],
   "source": [
    "#c \n",
    "df3_rptchall = df3[(df3['rptchall'] == 1)]\n",
    "df3_rptchall.head()"
   ]
  },
  {
   "cell_type": "code",
   "execution_count": 26,
   "metadata": {},
   "outputs": [
    {
     "name": "stdout",
     "output_type": "stream",
     "text": [
      "                            OLS Regression Results                            \n",
      "==============================================================================\n",
      "Dep. Variable:                  cvote   R-squared:                       0.037\n",
      "Model:                            OLS   Adj. R-squared:                  0.006\n",
      "Method:                 Least Squares   F-statistic:                     1.189\n",
      "Date:                Sat, 07 Dec 2019   Prob (F-statistic):              0.284\n",
      "Time:                        12:39:22   Log-Likelihood:                -103.08\n",
      "No. Observations:                  33   AIC:                             210.2\n",
      "Df Residuals:                      31   BIC:                             213.2\n",
      "Df Model:                           1                                         \n",
      "Covariance Type:            nonrobust                                         \n",
      "==============================================================================\n",
      "                 coef    std err          t      P>|t|      [0.025      0.975]\n",
      "------------------------------------------------------------------------------\n",
      "Intercept     -2.2498      0.999     -2.253      0.031      -4.286      -0.213\n",
      "cincshr        0.0924      0.085      1.090      0.284      -0.080       0.265\n",
      "==============================================================================\n",
      "Omnibus:                        0.727   Durbin-Watson:                   1.434\n",
      "Prob(Omnibus):                  0.695   Jarque-Bera (JB):                0.250\n",
      "Skew:                           0.206   Prob(JB):                        0.882\n",
      "Kurtosis:                       3.111   Cond. No.                         11.9\n",
      "==============================================================================\n",
      "\n",
      "Warnings:\n",
      "[1] Standard Errors assume that the covariance matrix of the errors is correctly specified.\n"
     ]
    }
   ],
   "source": [
    "reg3 = smf.ols('cvote ~ cincshr',data=df3_rptchall).fit()\n",
    "print(reg3.summary())"
   ]
  },
  {
   "cell_type": "markdown",
   "metadata": {},
   "source": [
    "<div class=\"alert alert-danger alertdanger\" style=\"margin-top: 20px\">\n",
    "The coefficient of $\\Delta incshr$ is 0.0924, indicating that a 10% increase in the incubent's share of total spending leads to 0.924% increase in incubent's vote."
   ]
  },
  {
   "cell_type": "code",
   "execution_count": null,
   "metadata": {},
   "outputs": [],
   "source": []
  }
 ],
 "metadata": {
  "kernelspec": {
   "display_name": "Python 3",
   "language": "python",
   "name": "python3"
  },
  "language_info": {
   "codemirror_mode": {
    "name": "ipython",
    "version": 3
   },
   "file_extension": ".py",
   "mimetype": "text/x-python",
   "name": "python",
   "nbconvert_exporter": "python",
   "pygments_lexer": "ipython3",
   "version": "3.7.4"
  }
 },
 "nbformat": 4,
 "nbformat_minor": 2
}
